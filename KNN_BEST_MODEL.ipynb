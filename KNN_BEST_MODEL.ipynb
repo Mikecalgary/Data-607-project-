{
 "cells": [
  {
   "cell_type": "code",
   "execution_count": 5,
   "metadata": {},
   "outputs": [],
   "source": [
    "from tensorflow.keras.preprocessing.image import ImageDataGenerator\n",
    "from tensorflow.keras.applications import MobileNetV2\n",
    "from tensorflow.keras.layers import AveragePooling2D\n",
    "from tensorflow.keras.layers import Dropout\n",
    "from tensorflow.keras.layers import Flatten\n",
    "from tensorflow.keras.layers import Dense\n",
    "from tensorflow.keras.layers import Input\n",
    "from tensorflow.keras.models import Model\n",
    "from tensorflow.keras.optimizers import Adam\n",
    "from tensorflow.keras.applications.mobilenet_v2 import preprocess_input\n",
    "from tensorflow.keras.preprocessing.image import img_to_array\n",
    "from tensorflow.keras.preprocessing.image import load_img\n",
    "from tensorflow.keras.utils import to_categorical\n",
    "from sklearn.preprocessing import LabelBinarizer\n",
    "from sklearn.model_selection import train_test_split\n",
    "from sklearn.metrics import classification_report\n",
    "from imutils import paths\n",
    "import pandas as pd\n",
    "import matplotlib.pyplot as plt\n",
    "import numpy as np\n",
    "import os\n",
    "from sklearn.metrics import accuracy_score, confusion_matrix, classification_report\n",
    "import numpy as np\n",
    "import seaborn as sns\n",
    "from sklearn.metrics import classification_report\n",
    "import pandas as pd\n",
    "import time\n",
    "from os.path import isfile, join"
   ]
  },
  {
   "cell_type": "code",
   "execution_count": 6,
   "metadata": {},
   "outputs": [],
   "source": [
    "# RUN_ENV='KATE'\n",
    "# RUN_ENV='JN'\n",
    "# RUN_ENV='MK'\n",
    "RUN_ENV='GERRY'"
   ]
  },
  {
   "cell_type": "code",
   "execution_count": 7,
   "metadata": {},
   "outputs": [],
   "source": [
    "APP_FOLDER=''\n",
    "if RUN_ENV=='JN':\n",
    "    APP_FOLDER='/Users/jialingcai/Documents/607_608_project/'\n",
    "\n",
    "if RUN_ENV=='GERRY':\n",
    "    APP_FOLDER='C:/Final/'\n",
    "\n",
    "METADATA_FOLDER=APP_FOLDER+'Metadata/'\n",
    "NEW_DATA_FOLDER=APP_FOLDER+'NewData/'\n",
    "DATASET1_PATH=APP_FOLDER+'/SourceData/DataSet1/'\n",
    "##for dataset 1\n",
    "XMLSCHEMA_FILE=METADATA_FOLDER+'dataset1.xsd'\n",
    "\n",
    "DATASET2_PATH=APP_FOLDER+'/SourceData/DataSet2/'\n",
    "##"
   ]
  },
  {
   "cell_type": "code",
   "execution_count": 8,
   "metadata": {},
   "outputs": [
    {
     "name": "stdout",
     "output_type": "stream",
     "text": [
      "1803_0_face_with_mask.jpg\n"
     ]
    }
   ],
   "source": [
    "path_with_mask =NEW_DATA_FOLDER+'face_with_mask'\n",
    "path_without_mask = NEW_DATA_FOLDER+'face_no_mask'\n",
    "files_with_mask = os.listdir(path_with_mask)\n",
    "files_without_mask = os.listdir(path_without_mask)\n",
    "print(files_with_mask[1])"
   ]
  },
  {
   "cell_type": "code",
   "execution_count": null,
   "metadata": {},
   "outputs": [],
   "source": []
  },
  {
   "cell_type": "code",
   "execution_count": 9,
   "metadata": {},
   "outputs": [],
   "source": [
    "def get_image_info(img_path):\n",
    "    image_obj = load_img(img_path)\n",
    "    newsize=(224,224)\n",
    "    new_img_info = image_obj.resize(newsize)\n",
    "\n",
    "    return (new_img_info)\n",
    "\n",
    "X1 = []\n",
    "# X_without_mask=[]\n",
    "# y_label_without=[]\n",
    "\n",
    "for i in range(len(files_without_mask)):\n",
    "    j = 1\n",
    "    img_path = join(path_without_mask,files_without_mask[i])#path_with_mask+'/'+files_with_mask[i]\n",
    "    x = get_image_info(img_path)\n",
    "    image = img_to_array(x)\n",
    "    X1.append({'name': j , 'value': image })"
   ]
  },
  {
   "cell_type": "code",
   "execution_count": 10,
   "metadata": {},
   "outputs": [
    {
     "data": {
      "text/plain": [
       "(224, 224, 3)"
      ]
     },
     "execution_count": 10,
     "metadata": {},
     "output_type": "execute_result"
    }
   ],
   "source": [
    "X1 = np.array(X1)\n",
    "X1[1].get('name')\n",
    "X1[1].get('value').shape"
   ]
  },
  {
   "cell_type": "code",
   "execution_count": 11,
   "metadata": {},
   "outputs": [
    {
     "name": "stdout",
     "output_type": "stream",
     "text": [
      "Wall time: 53.8 s\n"
     ]
    }
   ],
   "source": [
    "%%time\n",
    "X0=[]\n",
    "for i in range(len(files_with_mask)):\n",
    "    j=0\n",
    "    img_path = join(path_with_mask,files_with_mask[i])#path_with_mask+'/'+files_with_mask[i]\n",
    "    x = get_image_info(img_path)\n",
    "    image = img_to_array(x)\n",
    "    X0.append({'name': j , 'value': image })\n",
    "\n",
    "import random\n",
    "from sklearn.neighbors import KNeighborsClassifier\n",
    "\n",
    "data = np.concatenate((X1,X0),axis=0)\n",
    "data.shape\n",
    "random.shuffle(data)\n",
    "data.shape\n",
    "#WE LABEL WITHMASK AS 0, WITHOUT MASK AS 1\n",
    "X = [data[i].get('value') for i in range(5283)]\n",
    "np.array(X).shape\n",
    "#print(data[1])\n",
    "\n",
    "X_tr, X_te, y_tr, y_te = train_test_split(np.array([data[i].get('value') for i in range(5283)]), \n",
    "                                          np.array([data[i].get('name') for i in range(5283)]),\n",
    "                                         test_size=0.2,\n",
    "                                         random_state=42)\n",
    "X_tr.shape,y_tr.shape\n",
    "X_tr = X_tr.reshape(X_tr.shape[0],X_tr.shape[1]*X_tr.shape[2]*X_tr.shape[3])\n",
    "X_te = X_te.reshape(X_te.shape[0],X_te.shape[1]*X_te.shape[2]*X_te.shape[3])\n",
    "\n",
    "model = KNeighborsClassifier(n_neighbors=5)\n",
    "model.fit(X_tr,y_tr)\n",
    "ypre = model.predict(X_te)\n",
    "target_names = ['with_mask','without_mask']\n",
    "\n",
    "clf_report = classification_report(y_te,\n",
    "                                   ypre,\n",
    "                                   target_names=target_names,\n",
    "                                   output_dict=True)\n",
    "\n"
   ]
  },
  {
   "cell_type": "code",
   "execution_count": 12,
   "metadata": {},
   "outputs": [
    {
     "data": {
      "text/plain": [
       "['KNN_Best.joblib']"
      ]
     },
     "execution_count": 12,
     "metadata": {},
     "output_type": "execute_result"
    }
   ],
   "source": [
    "from joblib import dump\n",
    "dump(model,filename='KNN_Best.joblib')"
   ]
  },
  {
   "cell_type": "code",
   "execution_count": null,
   "metadata": {},
   "outputs": [],
   "source": []
  }
 ],
 "metadata": {
  "kernelspec": {
   "display_name": "Python 3",
   "language": "python",
   "name": "python3"
  },
  "language_info": {
   "codemirror_mode": {
    "name": "ipython",
    "version": 3
   },
   "file_extension": ".py",
   "mimetype": "text/x-python",
   "name": "python",
   "nbconvert_exporter": "python",
   "pygments_lexer": "ipython3",
   "version": "3.8.5"
  }
 },
 "nbformat": 4,
 "nbformat_minor": 2
}
