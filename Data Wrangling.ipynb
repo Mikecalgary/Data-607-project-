{
 "cells": [
  {
   "cell_type": "code",
   "execution_count": 30,
   "metadata": {},
   "outputs": [],
   "source": [
    "import xmlschema\n",
    "import pandas as pd\n",
    "import os\n",
    "import glob\n",
    "import csv\n",
    "import json\n",
    "from IPython.display import Image, display\n",
    "from pprint import pprint"
   ]
  },
  {
   "cell_type": "code",
   "execution_count": 31,
   "metadata": {},
   "outputs": [],
   "source": [
    "APP_FOLDER='C:/Final/'\n",
    "METADATA_FOLDER=APP_FOLDER+'Metadata/'\n",
    "NEW_DATA_FOLDER=APP_FOLDER+'NewData/'\n",
    "DATASET1_PATH=APP_FOLDER+'/SourceData/DataSet1/'\n",
    "##for dataset 1\n",
    "XMLSCHEMA_FILE=METADATA_FOLDER+'dataset1.xsd'\n",
    "\n",
    "DATASET2_PATH=APP_FOLDER+'/SourceData/DataSet2/'\n",
    "##"
   ]
  },
  {
   "cell_type": "code",
   "execution_count": 32,
   "metadata": {},
   "outputs": [],
   "source": [
    "#get files list base on file type from a fodler\n",
    "def get_file_list(file_path,file_type='xml'):\n",
    "    return [ f for f in glob.glob(str(file_path)+'*.'+file_type)]\n"
   ]
  },
  {
   "cell_type": "markdown",
   "metadata": {},
   "source": [
    "## Get csv file for dataset 1"
   ]
  },
  {
   "cell_type": "markdown",
   "metadata": {},
   "source": [
    "### Generate csv file function"
   ]
  },
  {
   "cell_type": "code",
   "execution_count": 33,
   "metadata": {},
   "outputs": [],
   "source": [
    "def get_image_metadata_csv(file_path,csv_file,xsd_file):\n",
    "    xs = xmlschema.XMLSchema(xsd_file)\n",
    "    file = open(csv_file, 'w+', newline ='') \n",
    "    csv_header=[\"filename\",\"folder\",\"segmented\",\"depth\",\"height\",\"width\",\n",
    "                \"object_id\",\"xmax\",\"xmin\",\"ymax\",\"ymin\",\"difficult\",\"name\",\"occluded\",\"truncated\"]\n",
    "    data=[csv_header]\n",
    "\n",
    "    for f in get_file_list(file_path):\n",
    "        imgs=xs.to_dict(f)\n",
    "        imgs_head=[ imgs[\"filename\"],imgs[\"folder\"],imgs[\"segmented\"],\n",
    "                    imgs[\"size\"][\"depth\"],imgs[\"size\"][\"height\"],\n",
    "                    imgs[\"size\"][\"width\"]]\n",
    "        i=0\n",
    "        for o in imgs[\"object\"]:\n",
    "            imgs_fact=imgs_head.copy()\n",
    "            imgs_fact.append(i)\n",
    "            imgs_fact.append(o[\"bndbox\"][\"xmax\"])\n",
    "            imgs_fact.append(o[\"bndbox\"][\"xmin\"])\n",
    "            imgs_fact.append(o[\"bndbox\"][\"ymax\"])\n",
    "            imgs_fact.append(o[\"bndbox\"][\"ymin\"])\n",
    "            imgs_fact.append(o[\"difficult\"])\n",
    "            imgs_fact.append(o[\"name\"])\n",
    "            imgs_fact.append(o[\"occluded\"])\n",
    "            imgs_fact.append(o[\"truncated\"])\n",
    "            data.append(imgs_fact)\n",
    "            i=i+1\n",
    "    with file:     \n",
    "        write = csv.writer(file) \n",
    "        write.writerows(data)"
   ]
  },
  {
   "cell_type": "markdown",
   "metadata": {},
   "source": [
    "### generate dataset 1 csv file"
   ]
  },
  {
   "cell_type": "code",
   "execution_count": 34,
   "metadata": {},
   "outputs": [],
   "source": [
    "csv_file_name_1=METADATA_FOLDER+'dataset1_images.csv'\n",
    "get_image_metadata_csv(DATASET1_PATH+'/annotations/',csv_file_name_1,XMLSCHEMA_FILE)"
   ]
  },
  {
   "cell_type": "markdown",
   "metadata": {},
   "source": [
    "## Get csv file for dataset 2"
   ]
  },
  {
   "cell_type": "markdown",
   "metadata": {},
   "source": [
    "### Generate csv file function"
   ]
  },
  {
   "cell_type": "code",
   "execution_count": 35,
   "metadata": {},
   "outputs": [],
   "source": [
    "def get_image_metadata_json_csv(json_file_path,csv_file,face_only=True):\n",
    "    \n",
    "    #prepare header data\n",
    "    csv_header=[\"filename\",\"folder\",\"ID\",\"tota_objects\",\"object_id\",\"xmax\",\"xmin\",\"ymax\",\n",
    "                \"ymin\",\"confidence\",\"classname\",\"isprotected\"]\n",
    "    csv_data=[csv_header]\n",
    "    \n",
    "    for file in get_file_list(json_file_path,'json'):\n",
    "        with open(file) as f:\n",
    "            data = json.load(f)\n",
    "            filename=(data['FileName'])\n",
    "            numofanno=int(data['NumOfAnno'])\n",
    "            object_id=0\n",
    "            total_objects=numofanno\n",
    "            \n",
    "            if face_only:\n",
    "                total_objects=0\n",
    "                for n in range(0,numofanno):\n",
    "                    if ('face_with_mask'== data['Annotations'][n]['classname']\n",
    "                       ) or('face_no_mask'==data['Annotations'][n]['classname']) :\n",
    "                        total_objects=total_objects+1\n",
    "            \n",
    "            for n in range(0,numofanno):\n",
    "                row=data['Annotations'][n]\n",
    "                clname=row['classname']\n",
    "                if(face_only and not ('face_with_mask' == clname)  and not ('face_no_mask' == clname)) :\n",
    "                    continue\n",
    "                imgs_fact=[filename]\n",
    "                imgs_fact.append('images')\n",
    "                imgs_fact.append(row['ID'])                \n",
    "                imgs_fact.append(total_objects)\n",
    "                imgs_fact.append(object_id)\n",
    "                for i in range(0,4):\n",
    "                    imgs_fact.append(int(row['BoundingBox'][i]))\n",
    "                imgs_fact.append(row['Confidence'])\n",
    "                imgs_fact.append(row['classname'])\n",
    "                imgs_fact.append(row['isProtected'])\n",
    "                csv_data.append(imgs_fact)\n",
    "                object_id=object_id+1\n",
    "    with open(csv_file, 'w', newline='') as file:    \n",
    "        writer = csv.writer(file) \n",
    "        writer.writerows(csv_data)     "
   ]
  },
  {
   "cell_type": "markdown",
   "metadata": {},
   "source": [
    "### generate dataset 2 csv file"
   ]
  },
  {
   "cell_type": "code",
   "execution_count": 36,
   "metadata": {},
   "outputs": [],
   "source": [
    "json_file_folder=DATASET2_PATH+'Medical mask/Medical mask/Medical Mask/annotations/'\n",
    "csv_file_name_2=METADATA_FOLDER+'dataset2_images.csv'\n",
    "get_image_metadata_json_csv(json_file_folder,csv_file_name)"
   ]
  },
  {
   "cell_type": "markdown",
   "metadata": {},
   "source": [
    "##### Combine dataset 1 and  dataset 2  to a new data set including croping face data "
   ]
  },
  {
   "cell_type": "code",
   "execution_count": 38,
   "metadata": {},
   "outputs": [],
   "source": [
    "import pandas as pd\n",
    "from pathlib import Path\n",
    "from tensorflow.keras.preprocessing.image import img_to_array\n",
    "from tensorflow.keras.preprocessing.image import load_img\n",
    "\n",
    "dataset1=pd.read_csv(csv_file_name_1)\n",
    "dataset2=pd.read_csv(csv_file_name_2)\n",
    "\n",
    "def get_label (label):\n",
    "    w_mask=['face_with_mask','with_mask','mask_weared_incorrect']\n",
    "    if (label in w_mask):\n",
    "        return  'face_with_mask'\n",
    "    else:\n",
    "        return 'face_no_mask'\n",
    "\n",
    "def get_face_mask_date(image_path, coords):\n",
    "    image_obj = load_img(image_path)\n",
    "#     print(image_path)\n",
    "#     print(coords)\n",
    "    cropped_image = image_obj.crop(coords)\n",
    "    # newsize = (224, 224) \n",
    "    # cropped_image=cropped_image.resize(newsize)\n",
    "    return cropped_image\n",
    "\n",
    "def generate_new_dateset1(dataset):\n",
    "#     new_data_folder='C:/Users/gerry/OneDrive/Documents/U of C/Project 607_608/NewData/'\n",
    "#     absolute_path1=r'C:/Users/gerry/OneDrive/Documents/U of C/Project 607_608/Data/'\n",
    "    for index, row in dataset.iterrows():\n",
    "        try:\n",
    "            label = get_label(row['name'])\n",
    "            absolute_path=Path(DATASET1_PATH)\n",
    "            img_file =Path.joinpath(absolute_path,row['folder'])\n",
    "            img_file =Path.joinpath(img_file,row['filename'])\n",
    "            image=get_face_mask_date(img_file,(row['xmin'],row['ymin'],row['xmax'],row['ymax']))\n",
    "            image.save(NEW_DATA_FOLDER+label+'/'+Path(row['filename']).stem+'_'\n",
    "                       +str(row['object_id'])+'_'+label+Path(row['filename']).suffixes[0])\n",
    "        except  Exception as error:\n",
    "            print(row['filename'])\n",
    "            print((row['xmax'],row['xmin'],row['ymax'],row['ymin']))\n",
    "\n",
    "def generate_new_dateset2(dataset):\n",
    "#     new_data_folder='C:/Project 607_608/NewData/'\n",
    "    absolute_path=DATASET2_PATH+'/Medical mask/Medical mask/Medical Mask/'\n",
    "    for index, row in dataset.iterrows():\n",
    "        try:\n",
    "            label = row['classname']\n",
    "            if(label!='face_with_mask' and label!='face_no_mask'):\n",
    "                continue\n",
    "            absolute_path=Path(absolute_path)\n",
    "            img_file =Path.joinpath(absolute_path,row['folder'])\n",
    "            img_file =Path.joinpath(img_file,row['filename'])\n",
    "            image=get_face_mask_date(img_file,(row['xmax'],row['xmin'],row['ymax'],row['ymin']))\n",
    "            image.save(new_data_folder+label+'/'+Path(row['filename']).stem+'_'\n",
    "                        +str(row['object_id'])+'_'+label+Path(row['filename']).suffixes[0])\n",
    "        except  Exception as error:\n",
    "            print(row['filename'])\n",
    "            print((row['xmax'],row['xmin'],row['ymax'],row['ymin']))\n",
    "\n",
    "generate_new_dateset1(dataset1)\n",
    "generate_new_dateset2(dataset2)\n"
   ]
  },
  {
   "cell_type": "markdown",
   "metadata": {},
   "source": [
    " #### Generate csv for the new data set"
   ]
  },
  {
   "cell_type": "code",
   "execution_count": 39,
   "metadata": {},
   "outputs": [],
   "source": [
    "p = Path(NEW_DATA_FOLDER+'face_no_mask').glob('**/*')\n",
    "p_w = Path(NEW_DATA_FOLDER+'face_with_mask').glob('**/*')\n",
    "header = [\"filename\", \"class_name\"]\n",
    "delimiter=','\n",
    "with open(\"temp.csv\", 'w') as f:\n",
    "    writer = csv.writer(f,lineterminator='\\n',delimiter=delimiter)\n",
    "    writer.writerow(header)\n",
    "    for f in p:\n",
    "        p=Path(f)\n",
    "        csv_row=[p.name,'face_no_mask']\n",
    "        writer.writerow(csv_row)\n",
    "    for f in p_w:\n",
    "        p=Path(f)\n",
    "        csv_row=[p.name,'face_with_mask']\n",
    "        writer.writerow(csv_row)\n",
    "        \n",
    "df=pd.read_csv('temp.csv')\n",
    "df=df.sample(frac=1)        \n",
    "df.to_csv(METADATA_FOLDER+'new_data_set.csv',index=False)\n",
    "os.remove(\"temp.csv\")"
   ]
  },
  {
   "cell_type": "code",
   "execution_count": null,
   "metadata": {},
   "outputs": [],
   "source": []
  }
 ],
 "metadata": {
  "kernelspec": {
   "display_name": "Python 3",
   "language": "python",
   "name": "python3"
  },
  "language_info": {
   "codemirror_mode": {
    "name": "ipython",
    "version": 3
   },
   "file_extension": ".py",
   "mimetype": "text/x-python",
   "name": "python",
   "nbconvert_exporter": "python",
   "pygments_lexer": "ipython3",
   "version": "3.8.5"
  }
 },
 "nbformat": 4,
 "nbformat_minor": 5
}
